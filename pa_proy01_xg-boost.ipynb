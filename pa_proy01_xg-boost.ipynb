{
 "cells": [
  {
   "cell_type": "code",
   "execution_count": 177,
   "metadata": {},
   "outputs": [],
   "source": [
    "import warnings\n",
    "warnings.filterwarnings(\"ignore\")\n",
    "\n",
    "# loading packages\n",
    "# basic + dates \n",
    "import numpy as np\n",
    "import pandas as pd\n",
    "from pandas import datetime\n",
    "\n",
    "# data visualization\n",
    "import matplotlib.pyplot as plt\n",
    "import seaborn as sns # advanced vizs\n",
    "%matplotlib inline\n",
    "\n",
    "# statistics\n",
    "from statsmodels.distributions.empirical_distribution import ECDF\n",
    "\n",
    "# time series analysis\n",
    "from statsmodels.tsa.seasonal import seasonal_decompose\n",
    "from statsmodels.graphics.tsaplots import plot_acf, plot_pacf\n",
    "\n",
    "# prophet by Facebook\n",
    "from fbprophet import Prophet\n",
    "\n",
    "# machine learning: XGB\n",
    "import xgboost as xgb\n",
    "from sklearn.model_selection import train_test_split, GridSearchCV, RandomizedSearchCV\n",
    "from xgboost.sklearn import XGBRegressor # wrapper"
   ]
  },
  {
   "cell_type": "code",
   "execution_count": 178,
   "metadata": {},
   "outputs": [],
   "source": [
    "saat =pd.read_excel('C:/Users/bran/Desktop/Hist/saat-xgb1.xlsx','Hoja1')\n",
    "saat.to_csv('saatxgb1.csv', encoding='utf-8',index_label=None)\n"
   ]
  },
  {
   "cell_type": "code",
   "execution_count": 179,
   "metadata": {},
   "outputs": [
    {
     "data": {
      "text/html": [
       "<div>\n",
       "<table border=\"1\" class=\"dataframe\">\n",
       "  <thead>\n",
       "    <tr style=\"text-align: right;\">\n",
       "      <th></th>\n",
       "      <th>Unnamed: 0</th>\n",
       "      <th>Mes</th>\n",
       "      <th>Dia_semana</th>\n",
       "      <th>Hora</th>\n",
       "      <th>Casos</th>\n",
       "    </tr>\n",
       "  </thead>\n",
       "  <tbody>\n",
       "    <tr>\n",
       "      <th>18283</th>\n",
       "      <td>18283</td>\n",
       "      <td>1</td>\n",
       "      <td>3</td>\n",
       "      <td>19</td>\n",
       "      <td>4</td>\n",
       "    </tr>\n",
       "    <tr>\n",
       "      <th>18284</th>\n",
       "      <td>18284</td>\n",
       "      <td>1</td>\n",
       "      <td>3</td>\n",
       "      <td>20</td>\n",
       "      <td>11</td>\n",
       "    </tr>\n",
       "    <tr>\n",
       "      <th>18285</th>\n",
       "      <td>18285</td>\n",
       "      <td>1</td>\n",
       "      <td>3</td>\n",
       "      <td>21</td>\n",
       "      <td>2</td>\n",
       "    </tr>\n",
       "    <tr>\n",
       "      <th>18286</th>\n",
       "      <td>18286</td>\n",
       "      <td>1</td>\n",
       "      <td>3</td>\n",
       "      <td>22</td>\n",
       "      <td>1</td>\n",
       "    </tr>\n",
       "    <tr>\n",
       "      <th>18287</th>\n",
       "      <td>18287</td>\n",
       "      <td>1</td>\n",
       "      <td>3</td>\n",
       "      <td>23</td>\n",
       "      <td>0</td>\n",
       "    </tr>\n",
       "  </tbody>\n",
       "</table>\n",
       "</div>"
      ],
      "text/plain": [
       "       Unnamed: 0  Mes  Dia_semana  Hora  Casos\n",
       "18283       18283    1           3    19      4\n",
       "18284       18284    1           3    20     11\n",
       "18285       18285    1           3    21      2\n",
       "18286       18286    1           3    22      1\n",
       "18287       18287    1           3    23      0"
      ]
     },
     "execution_count": 179,
     "metadata": {},
     "output_type": "execute_result"
    }
   ],
   "source": [
    "saat = pd.read_csv('C:/Users/bran/Desktop/Hist/saatxgb1.csv')\n",
    "saat.tail()"
   ]
  },
  {
   "cell_type": "code",
   "execution_count": 180,
   "metadata": {},
   "outputs": [
    {
     "data": {
      "text/plain": [
       "Unnamed: 0    0\n",
       "Mes           0\n",
       "Dia_semana    0\n",
       "Hora          0\n",
       "Casos         0\n",
       "dtype: int64"
      ]
     },
     "execution_count": 180,
     "metadata": {},
     "output_type": "execute_result"
    }
   ],
   "source": [
    "saat.isnull().sum()"
   ]
  },
  {
   "cell_type": "code",
   "execution_count": 181,
   "metadata": {},
   "outputs": [
    {
     "data": {
      "text/html": [
       "<div>\n",
       "<table border=\"1\" class=\"dataframe\">\n",
       "  <thead>\n",
       "    <tr style=\"text-align: right;\">\n",
       "      <th></th>\n",
       "      <th>Unnamed: 0</th>\n",
       "      <th>Mes</th>\n",
       "      <th>Dia_semana</th>\n",
       "      <th>Hora</th>\n",
       "      <th>Casos</th>\n",
       "    </tr>\n",
       "  </thead>\n",
       "  <tbody>\n",
       "    <tr>\n",
       "      <th>0</th>\n",
       "      <td>0</td>\n",
       "      <td>1</td>\n",
       "      <td>5</td>\n",
       "      <td>0</td>\n",
       "      <td>2</td>\n",
       "    </tr>\n",
       "    <tr>\n",
       "      <th>1</th>\n",
       "      <td>1</td>\n",
       "      <td>1</td>\n",
       "      <td>5</td>\n",
       "      <td>1</td>\n",
       "      <td>1</td>\n",
       "    </tr>\n",
       "    <tr>\n",
       "      <th>2</th>\n",
       "      <td>2</td>\n",
       "      <td>1</td>\n",
       "      <td>5</td>\n",
       "      <td>2</td>\n",
       "      <td>1</td>\n",
       "    </tr>\n",
       "    <tr>\n",
       "      <th>3</th>\n",
       "      <td>3</td>\n",
       "      <td>1</td>\n",
       "      <td>5</td>\n",
       "      <td>3</td>\n",
       "      <td>2</td>\n",
       "    </tr>\n",
       "    <tr>\n",
       "      <th>4</th>\n",
       "      <td>4</td>\n",
       "      <td>1</td>\n",
       "      <td>5</td>\n",
       "      <td>4</td>\n",
       "      <td>1</td>\n",
       "    </tr>\n",
       "  </tbody>\n",
       "</table>\n",
       "</div>"
      ],
      "text/plain": [
       "   Unnamed: 0  Mes  Dia_semana  Hora  Casos\n",
       "0           0    1           5     0      2\n",
       "1           1    1           5     1      1\n",
       "2           2    1           5     2      1\n",
       "3           3    1           5     3      2\n",
       "4           4    1           5     4      1"
      ]
     },
     "execution_count": 181,
     "metadata": {},
     "output_type": "execute_result"
    }
   ],
   "source": [
    "\n",
    "\n",
    "\n",
    "predictors = [x for x in saat.columns if x not in ['Casos']]\n",
    "y = np.log(saat.Casos) # log transformation of Sales\n",
    "X = saat\n",
    "\n",
    "# split the data into train/test set\n",
    "X_train, X_test, y_train, y_test = train_test_split(X, y, \n",
    "                                                    test_size = 0.3, # 30% for the evaluation set\n",
    "                                                    random_state = 42)\n",
    "X.head()"
   ]
  },
  {
   "cell_type": "code",
   "execution_count": 182,
   "metadata": {},
   "outputs": [
    {
     "data": {
      "text/plain": [
       "Index(['Unnamed: 0', 'Mes', 'Dia_semana', 'Hora', 'Casos'], dtype='object')"
      ]
     },
     "execution_count": 182,
     "metadata": {},
     "output_type": "execute_result"
    }
   ],
   "source": [
    "# predictors\n",
    "X.columns"
   ]
  },
  {
   "cell_type": "code",
   "execution_count": 183,
   "metadata": {},
   "outputs": [],
   "source": [
    "\n",
    "\n",
    "# evaluation metric: rmspe\n",
    "# Root Mean Square Percentage Error\n",
    "# code chunk shared at Kaggle\n",
    "#from keras import backend as K\n",
    "def rmspe(y, yhat):\n",
    "    return np.sqrt(np.mean((yhat / y-1) ** 2))\n",
    "#    return np.abs(K.sqrt(K.mean(K.square(yhat - y), axis=-1)))\n",
    "\n",
    "def rmspe_xg(yhat, y):\n",
    "    y = np.expm1(y.get_label())\n",
    "    yhat = np.expm1(yhat)\n",
    "    return \"rmspe\", rmspe(y, yhat)"
   ]
  },
  {
   "cell_type": "code",
   "execution_count": 184,
   "metadata": {},
   "outputs": [],
   "source": [
    "# base parameters\n",
    "params = {\n",
    "    'booster': 'gbtree', \n",
    "    'objective': 'reg:linear', # regression task\n",
    "    'subsample': 0.70, # 80% of data to grow trees and prevent overfitting\n",
    "    'colsample_bytree': 0.85, # 85% of features used\n",
    "    'eta': 0.05, \n",
    "    'max_depth': 10, \n",
    "    'seed': 42} # for reproducible results"
   ]
  },
  {
   "cell_type": "code",
   "execution_count": 185,
   "metadata": {},
   "outputs": [
    {
     "name": "stdout",
     "output_type": "stream",
     "text": [
      "[0]\ttrain-rmse:nan\ttest-rmse:nan\ttrain-rmspe:nan\ttest-rmspe:nan\n",
      "Multiple eval metrics have been passed: 'test-rmspe' will be used for early stopping.\n",
      "\n",
      "Will train until test-rmspe hasn't improved in 300 rounds.\n",
      "[1]\ttrain-rmse:nan\ttest-rmse:nan\ttrain-rmspe:nan\ttest-rmspe:nan\n",
      "[2]\ttrain-rmse:nan\ttest-rmse:nan\ttrain-rmspe:nan\ttest-rmspe:nan\n",
      "[3]\ttrain-rmse:nan\ttest-rmse:nan\ttrain-rmspe:nan\ttest-rmspe:nan\n",
      "[4]\ttrain-rmse:nan\ttest-rmse:nan\ttrain-rmspe:nan\ttest-rmspe:nan\n",
      "[5]\ttrain-rmse:nan\ttest-rmse:nan\ttrain-rmspe:nan\ttest-rmspe:nan\n",
      "[6]\ttrain-rmse:nan\ttest-rmse:nan\ttrain-rmspe:nan\ttest-rmspe:nan\n",
      "[7]\ttrain-rmse:nan\ttest-rmse:nan\ttrain-rmspe:nan\ttest-rmspe:nan\n",
      "[8]\ttrain-rmse:nan\ttest-rmse:nan\ttrain-rmspe:nan\ttest-rmspe:nan\n",
      "[9]\ttrain-rmse:nan\ttest-rmse:nan\ttrain-rmspe:nan\ttest-rmspe:nan\n",
      "[10]\ttrain-rmse:nan\ttest-rmse:nan\ttrain-rmspe:nan\ttest-rmspe:nan\n",
      "[11]\ttrain-rmse:nan\ttest-rmse:nan\ttrain-rmspe:nan\ttest-rmspe:nan\n",
      "[12]\ttrain-rmse:nan\ttest-rmse:nan\ttrain-rmspe:nan\ttest-rmspe:nan\n",
      "[13]\ttrain-rmse:nan\ttest-rmse:nan\ttrain-rmspe:nan\ttest-rmspe:nan\n",
      "[14]\ttrain-rmse:nan\ttest-rmse:nan\ttrain-rmspe:nan\ttest-rmspe:nan\n",
      "[15]\ttrain-rmse:nan\ttest-rmse:nan\ttrain-rmspe:nan\ttest-rmspe:nan\n",
      "[16]\ttrain-rmse:nan\ttest-rmse:nan\ttrain-rmspe:nan\ttest-rmspe:nan\n",
      "[17]\ttrain-rmse:nan\ttest-rmse:nan\ttrain-rmspe:nan\ttest-rmspe:nan\n",
      "[18]\ttrain-rmse:nan\ttest-rmse:nan\ttrain-rmspe:nan\ttest-rmspe:nan\n",
      "[19]\ttrain-rmse:nan\ttest-rmse:nan\ttrain-rmspe:nan\ttest-rmspe:nan\n",
      "[20]\ttrain-rmse:nan\ttest-rmse:nan\ttrain-rmspe:nan\ttest-rmspe:nan\n",
      "[21]\ttrain-rmse:nan\ttest-rmse:nan\ttrain-rmspe:nan\ttest-rmspe:nan\n",
      "[22]\ttrain-rmse:nan\ttest-rmse:nan\ttrain-rmspe:nan\ttest-rmspe:nan\n",
      "[23]\ttrain-rmse:nan\ttest-rmse:nan\ttrain-rmspe:nan\ttest-rmspe:nan\n",
      "[24]\ttrain-rmse:nan\ttest-rmse:nan\ttrain-rmspe:nan\ttest-rmspe:nan\n",
      "[25]\ttrain-rmse:nan\ttest-rmse:nan\ttrain-rmspe:nan\ttest-rmspe:nan\n",
      "[26]\ttrain-rmse:nan\ttest-rmse:nan\ttrain-rmspe:nan\ttest-rmspe:nan\n",
      "[27]\ttrain-rmse:nan\ttest-rmse:nan\ttrain-rmspe:nan\ttest-rmspe:nan\n",
      "[28]\ttrain-rmse:nan\ttest-rmse:nan\ttrain-rmspe:nan\ttest-rmspe:nan\n",
      "[29]\ttrain-rmse:nan\ttest-rmse:nan\ttrain-rmspe:nan\ttest-rmspe:nan\n",
      "[30]\ttrain-rmse:nan\ttest-rmse:nan\ttrain-rmspe:nan\ttest-rmspe:nan\n",
      "[31]\ttrain-rmse:nan\ttest-rmse:nan\ttrain-rmspe:nan\ttest-rmspe:nan\n",
      "[32]\ttrain-rmse:nan\ttest-rmse:nan\ttrain-rmspe:nan\ttest-rmspe:nan\n",
      "[33]\ttrain-rmse:nan\ttest-rmse:nan\ttrain-rmspe:nan\ttest-rmspe:nan\n",
      "[34]\ttrain-rmse:nan\ttest-rmse:nan\ttrain-rmspe:nan\ttest-rmspe:nan\n",
      "[35]\ttrain-rmse:nan\ttest-rmse:nan\ttrain-rmspe:nan\ttest-rmspe:nan\n",
      "[36]\ttrain-rmse:nan\ttest-rmse:nan\ttrain-rmspe:nan\ttest-rmspe:nan\n",
      "[37]\ttrain-rmse:nan\ttest-rmse:nan\ttrain-rmspe:nan\ttest-rmspe:nan\n",
      "[38]\ttrain-rmse:nan\ttest-rmse:nan\ttrain-rmspe:nan\ttest-rmspe:nan\n",
      "[39]\ttrain-rmse:nan\ttest-rmse:nan\ttrain-rmspe:nan\ttest-rmspe:nan\n",
      "[40]\ttrain-rmse:nan\ttest-rmse:nan\ttrain-rmspe:nan\ttest-rmspe:nan\n",
      "[41]\ttrain-rmse:nan\ttest-rmse:nan\ttrain-rmspe:nan\ttest-rmspe:nan\n",
      "[42]\ttrain-rmse:nan\ttest-rmse:nan\ttrain-rmspe:nan\ttest-rmspe:nan\n",
      "[43]\ttrain-rmse:nan\ttest-rmse:nan\ttrain-rmspe:nan\ttest-rmspe:nan\n",
      "[44]\ttrain-rmse:nan\ttest-rmse:nan\ttrain-rmspe:nan\ttest-rmspe:nan\n",
      "[45]\ttrain-rmse:nan\ttest-rmse:nan\ttrain-rmspe:nan\ttest-rmspe:nan\n",
      "[46]\ttrain-rmse:nan\ttest-rmse:nan\ttrain-rmspe:nan\ttest-rmspe:nan\n",
      "[47]\ttrain-rmse:nan\ttest-rmse:nan\ttrain-rmspe:nan\ttest-rmspe:nan\n",
      "[48]\ttrain-rmse:nan\ttest-rmse:nan\ttrain-rmspe:nan\ttest-rmspe:nan\n",
      "[49]\ttrain-rmse:nan\ttest-rmse:nan\ttrain-rmspe:nan\ttest-rmspe:nan\n",
      "[50]\ttrain-rmse:nan\ttest-rmse:nan\ttrain-rmspe:nan\ttest-rmspe:nan\n",
      "[51]\ttrain-rmse:nan\ttest-rmse:nan\ttrain-rmspe:nan\ttest-rmspe:nan\n",
      "[52]\ttrain-rmse:nan\ttest-rmse:nan\ttrain-rmspe:nan\ttest-rmspe:nan\n",
      "[53]\ttrain-rmse:nan\ttest-rmse:nan\ttrain-rmspe:nan\ttest-rmspe:nan\n",
      "[54]\ttrain-rmse:nan\ttest-rmse:nan\ttrain-rmspe:nan\ttest-rmspe:nan\n",
      "[55]\ttrain-rmse:nan\ttest-rmse:nan\ttrain-rmspe:nan\ttest-rmspe:nan\n",
      "[56]\ttrain-rmse:nan\ttest-rmse:nan\ttrain-rmspe:nan\ttest-rmspe:nan\n",
      "[57]\ttrain-rmse:nan\ttest-rmse:nan\ttrain-rmspe:nan\ttest-rmspe:nan\n",
      "[58]\ttrain-rmse:nan\ttest-rmse:nan\ttrain-rmspe:nan\ttest-rmspe:nan\n",
      "[59]\ttrain-rmse:nan\ttest-rmse:nan\ttrain-rmspe:nan\ttest-rmspe:nan\n",
      "[60]\ttrain-rmse:nan\ttest-rmse:nan\ttrain-rmspe:nan\ttest-rmspe:nan\n",
      "[61]\ttrain-rmse:nan\ttest-rmse:nan\ttrain-rmspe:nan\ttest-rmspe:nan\n",
      "[62]\ttrain-rmse:nan\ttest-rmse:nan\ttrain-rmspe:nan\ttest-rmspe:nan\n",
      "[63]\ttrain-rmse:nan\ttest-rmse:nan\ttrain-rmspe:nan\ttest-rmspe:nan\n",
      "[64]\ttrain-rmse:nan\ttest-rmse:nan\ttrain-rmspe:nan\ttest-rmspe:nan\n",
      "[65]\ttrain-rmse:nan\ttest-rmse:nan\ttrain-rmspe:nan\ttest-rmspe:nan\n",
      "[66]\ttrain-rmse:nan\ttest-rmse:nan\ttrain-rmspe:nan\ttest-rmspe:nan\n",
      "[67]\ttrain-rmse:nan\ttest-rmse:nan\ttrain-rmspe:nan\ttest-rmspe:nan\n",
      "[68]\ttrain-rmse:nan\ttest-rmse:nan\ttrain-rmspe:nan\ttest-rmspe:nan\n",
      "[69]\ttrain-rmse:nan\ttest-rmse:nan\ttrain-rmspe:nan\ttest-rmspe:nan\n",
      "[70]\ttrain-rmse:nan\ttest-rmse:nan\ttrain-rmspe:nan\ttest-rmspe:nan\n",
      "[71]\ttrain-rmse:nan\ttest-rmse:nan\ttrain-rmspe:nan\ttest-rmspe:nan\n",
      "[72]\ttrain-rmse:nan\ttest-rmse:nan\ttrain-rmspe:nan\ttest-rmspe:nan\n",
      "[73]\ttrain-rmse:nan\ttest-rmse:nan\ttrain-rmspe:nan\ttest-rmspe:nan\n",
      "[74]\ttrain-rmse:nan\ttest-rmse:nan\ttrain-rmspe:nan\ttest-rmspe:nan\n",
      "[75]\ttrain-rmse:nan\ttest-rmse:nan\ttrain-rmspe:nan\ttest-rmspe:nan\n",
      "[76]\ttrain-rmse:nan\ttest-rmse:nan\ttrain-rmspe:nan\ttest-rmspe:nan\n",
      "[77]\ttrain-rmse:nan\ttest-rmse:nan\ttrain-rmspe:nan\ttest-rmspe:nan\n",
      "[78]\ttrain-rmse:nan\ttest-rmse:nan\ttrain-rmspe:nan\ttest-rmspe:nan\n",
      "[79]\ttrain-rmse:nan\ttest-rmse:nan\ttrain-rmspe:nan\ttest-rmspe:nan\n",
      "[80]\ttrain-rmse:nan\ttest-rmse:nan\ttrain-rmspe:nan\ttest-rmspe:nan\n",
      "[81]\ttrain-rmse:nan\ttest-rmse:nan\ttrain-rmspe:nan\ttest-rmspe:nan\n",
      "[82]\ttrain-rmse:nan\ttest-rmse:nan\ttrain-rmspe:nan\ttest-rmspe:nan\n",
      "[83]\ttrain-rmse:nan\ttest-rmse:nan\ttrain-rmspe:nan\ttest-rmspe:nan\n",
      "[84]\ttrain-rmse:nan\ttest-rmse:nan\ttrain-rmspe:nan\ttest-rmspe:nan\n",
      "[85]\ttrain-rmse:nan\ttest-rmse:nan\ttrain-rmspe:nan\ttest-rmspe:nan\n",
      "[86]\ttrain-rmse:nan\ttest-rmse:nan\ttrain-rmspe:nan\ttest-rmspe:nan\n",
      "[87]\ttrain-rmse:nan\ttest-rmse:nan\ttrain-rmspe:nan\ttest-rmspe:nan\n",
      "[88]\ttrain-rmse:nan\ttest-rmse:nan\ttrain-rmspe:nan\ttest-rmspe:nan\n",
      "[89]\ttrain-rmse:nan\ttest-rmse:nan\ttrain-rmspe:nan\ttest-rmspe:nan\n",
      "[90]\ttrain-rmse:nan\ttest-rmse:nan\ttrain-rmspe:nan\ttest-rmspe:nan\n",
      "[91]\ttrain-rmse:nan\ttest-rmse:nan\ttrain-rmspe:nan\ttest-rmspe:nan\n",
      "[92]\ttrain-rmse:nan\ttest-rmse:nan\ttrain-rmspe:nan\ttest-rmspe:nan\n",
      "[93]\ttrain-rmse:nan\ttest-rmse:nan\ttrain-rmspe:nan\ttest-rmspe:nan\n",
      "[94]\ttrain-rmse:nan\ttest-rmse:nan\ttrain-rmspe:nan\ttest-rmspe:nan\n",
      "[95]\ttrain-rmse:nan\ttest-rmse:nan\ttrain-rmspe:nan\ttest-rmspe:nan\n",
      "[96]\ttrain-rmse:nan\ttest-rmse:nan\ttrain-rmspe:nan\ttest-rmspe:nan\n",
      "[97]\ttrain-rmse:nan\ttest-rmse:nan\ttrain-rmspe:nan\ttest-rmspe:nan\n",
      "[98]\ttrain-rmse:nan\ttest-rmse:nan\ttrain-rmspe:nan\ttest-rmspe:nan\n",
      "[99]\ttrain-rmse:nan\ttest-rmse:nan\ttrain-rmspe:nan\ttest-rmspe:nan\n"
     ]
    }
   ],
   "source": [
    "# XGB with xgboost library\n",
    "dtrain = xgb.DMatrix(X_train[predictors], y_train)\n",
    "dtest = xgb.DMatrix(X_test[predictors], y_test)\n",
    "\n",
    "watchlist = [(dtrain, 'train'), (dtest, 'test')]\n",
    "\n",
    "xgb_model = xgb.train(params, dtrain, 100, evals = watchlist,\n",
    "                      early_stopping_rounds = 300, feval = rmspe_xg, verbose_eval = True)"
   ]
  },
  {
   "cell_type": "code",
   "execution_count": 151,
   "metadata": {},
   "outputs": [
    {
     "data": {
      "text/plain": [
       "XGBRegressor(base_score=0.5, booster='gbtree', colsample_bylevel=1,\n",
       "       colsample_bytree=0.85, gamma=0, learning_rate=0.1, max_delta_step=0,\n",
       "       max_depth=10, min_child_weight=1, missing=None, n_estimators=300,\n",
       "       n_jobs=1, nthread=None, objective='reg:linear', random_state=0,\n",
       "       reg_alpha=0, reg_lambda=1, scale_pos_weight=1, seed=42, silent=True,\n",
       "       subsample=0.8)"
      ]
     },
     "execution_count": 151,
     "metadata": {},
     "output_type": "execute_result"
    }
   ],
   "source": [
    "params_sk = {'max_depth': 10, \n",
    "            'n_estimators': 300, # the same as num_rounds in xgboost\n",
    "            'objective': 'reg:linear', \n",
    "            'subsample': 0.8, \n",
    "            'colsample_bytree': 0.85, \n",
    "            'learning_rate': 0.1, \n",
    "            'seed': 42}     \n",
    "\n",
    "skrg = XGBRegressor(**params_sk)\n",
    "\n",
    "skrg.fit(X_train, y_train)"
   ]
  },
  {
   "cell_type": "code",
   "execution_count": 152,
   "metadata": {},
   "outputs": [
    {
     "ename": "ValueError",
     "evalue": "Input contains NaN, infinity or a value too large for dtype('float64').",
     "output_type": "error",
     "traceback": [
      "\u001b[1;31m---------------------------------------------------------------------------\u001b[0m",
      "\u001b[1;31mValueError\u001b[0m                                Traceback (most recent call last)",
      "\u001b[1;32m<ipython-input-152-da32eaece573>\u001b[0m in \u001b[0;36m<module>\u001b[1;34m()\u001b[0m\n\u001b[0;32m      8\u001b[0m \u001b[1;33m\u001b[0m\u001b[0m\n\u001b[0;32m      9\u001b[0m \u001b[0msearch_sk\u001b[0m \u001b[1;33m=\u001b[0m \u001b[0mRandomizedSearchCV\u001b[0m\u001b[1;33m(\u001b[0m\u001b[0mskrg\u001b[0m\u001b[1;33m,\u001b[0m \u001b[0mparams_grid\u001b[0m\u001b[1;33m,\u001b[0m \u001b[0mcv\u001b[0m \u001b[1;33m=\u001b[0m \u001b[1;36m5\u001b[0m\u001b[1;33m)\u001b[0m \u001b[1;31m# 5 fold cross validation\u001b[0m\u001b[1;33m\u001b[0m\u001b[0m\n\u001b[1;32m---> 10\u001b[1;33m \u001b[0msearch_sk\u001b[0m\u001b[1;33m.\u001b[0m\u001b[0mfit\u001b[0m\u001b[1;33m(\u001b[0m\u001b[0mX_train\u001b[0m\u001b[1;33m,\u001b[0m \u001b[0my_train\u001b[0m\u001b[1;33m)\u001b[0m\u001b[1;33m\u001b[0m\u001b[0m\n\u001b[0m\u001b[0;32m     11\u001b[0m \u001b[1;33m\u001b[0m\u001b[0m\n\u001b[0;32m     12\u001b[0m \u001b[1;31m# best parameters\u001b[0m\u001b[1;33m\u001b[0m\u001b[1;33m\u001b[0m\u001b[0m\n",
      "\u001b[1;32m~\\Anaconda3\\lib\\site-packages\\sklearn\\model_selection\\_search.py\u001b[0m in \u001b[0;36mfit\u001b[1;34m(self, X, y, groups)\u001b[0m\n\u001b[0;32m   1188\u001b[0m                                           \u001b[0mself\u001b[0m\u001b[1;33m.\u001b[0m\u001b[0mn_iter\u001b[0m\u001b[1;33m,\u001b[0m\u001b[1;33m\u001b[0m\u001b[0m\n\u001b[0;32m   1189\u001b[0m                                           random_state=self.random_state)\n\u001b[1;32m-> 1190\u001b[1;33m         \u001b[1;32mreturn\u001b[0m \u001b[0mself\u001b[0m\u001b[1;33m.\u001b[0m\u001b[0m_fit\u001b[0m\u001b[1;33m(\u001b[0m\u001b[0mX\u001b[0m\u001b[1;33m,\u001b[0m \u001b[0my\u001b[0m\u001b[1;33m,\u001b[0m \u001b[0mgroups\u001b[0m\u001b[1;33m,\u001b[0m \u001b[0msampled_params\u001b[0m\u001b[1;33m)\u001b[0m\u001b[1;33m\u001b[0m\u001b[0m\n\u001b[0m",
      "\u001b[1;32m~\\Anaconda3\\lib\\site-packages\\sklearn\\model_selection\\_search.py\u001b[0m in \u001b[0;36m_fit\u001b[1;34m(self, X, y, groups, parameter_iterable)\u001b[0m\n\u001b[0;32m    562\u001b[0m                                   \u001b[0mreturn_times\u001b[0m\u001b[1;33m=\u001b[0m\u001b[1;32mTrue\u001b[0m\u001b[1;33m,\u001b[0m \u001b[0mreturn_parameters\u001b[0m\u001b[1;33m=\u001b[0m\u001b[1;32mTrue\u001b[0m\u001b[1;33m,\u001b[0m\u001b[1;33m\u001b[0m\u001b[0m\n\u001b[0;32m    563\u001b[0m                                   error_score=self.error_score)\n\u001b[1;32m--> 564\u001b[1;33m           \u001b[1;32mfor\u001b[0m \u001b[0mparameters\u001b[0m \u001b[1;32min\u001b[0m \u001b[0mparameter_iterable\u001b[0m\u001b[1;33m\u001b[0m\u001b[0m\n\u001b[0m\u001b[0;32m    565\u001b[0m           for train, test in cv_iter)\n\u001b[0;32m    566\u001b[0m \u001b[1;33m\u001b[0m\u001b[0m\n",
      "\u001b[1;32m~\\Anaconda3\\lib\\site-packages\\sklearn\\externals\\joblib\\parallel.py\u001b[0m in \u001b[0;36m__call__\u001b[1;34m(self, iterable)\u001b[0m\n\u001b[0;32m    756\u001b[0m             \u001b[1;31m# was dispatched. In particular this covers the edge\u001b[0m\u001b[1;33m\u001b[0m\u001b[1;33m\u001b[0m\u001b[0m\n\u001b[0;32m    757\u001b[0m             \u001b[1;31m# case of Parallel used with an exhausted iterator.\u001b[0m\u001b[1;33m\u001b[0m\u001b[1;33m\u001b[0m\u001b[0m\n\u001b[1;32m--> 758\u001b[1;33m             \u001b[1;32mwhile\u001b[0m \u001b[0mself\u001b[0m\u001b[1;33m.\u001b[0m\u001b[0mdispatch_one_batch\u001b[0m\u001b[1;33m(\u001b[0m\u001b[0miterator\u001b[0m\u001b[1;33m)\u001b[0m\u001b[1;33m:\u001b[0m\u001b[1;33m\u001b[0m\u001b[0m\n\u001b[0m\u001b[0;32m    759\u001b[0m                 \u001b[0mself\u001b[0m\u001b[1;33m.\u001b[0m\u001b[0m_iterating\u001b[0m \u001b[1;33m=\u001b[0m \u001b[1;32mTrue\u001b[0m\u001b[1;33m\u001b[0m\u001b[0m\n\u001b[0;32m    760\u001b[0m             \u001b[1;32melse\u001b[0m\u001b[1;33m:\u001b[0m\u001b[1;33m\u001b[0m\u001b[0m\n",
      "\u001b[1;32m~\\Anaconda3\\lib\\site-packages\\sklearn\\externals\\joblib\\parallel.py\u001b[0m in \u001b[0;36mdispatch_one_batch\u001b[1;34m(self, iterator)\u001b[0m\n\u001b[0;32m    606\u001b[0m                 \u001b[1;32mreturn\u001b[0m \u001b[1;32mFalse\u001b[0m\u001b[1;33m\u001b[0m\u001b[0m\n\u001b[0;32m    607\u001b[0m             \u001b[1;32melse\u001b[0m\u001b[1;33m:\u001b[0m\u001b[1;33m\u001b[0m\u001b[0m\n\u001b[1;32m--> 608\u001b[1;33m                 \u001b[0mself\u001b[0m\u001b[1;33m.\u001b[0m\u001b[0m_dispatch\u001b[0m\u001b[1;33m(\u001b[0m\u001b[0mtasks\u001b[0m\u001b[1;33m)\u001b[0m\u001b[1;33m\u001b[0m\u001b[0m\n\u001b[0m\u001b[0;32m    609\u001b[0m                 \u001b[1;32mreturn\u001b[0m \u001b[1;32mTrue\u001b[0m\u001b[1;33m\u001b[0m\u001b[0m\n\u001b[0;32m    610\u001b[0m \u001b[1;33m\u001b[0m\u001b[0m\n",
      "\u001b[1;32m~\\Anaconda3\\lib\\site-packages\\sklearn\\externals\\joblib\\parallel.py\u001b[0m in \u001b[0;36m_dispatch\u001b[1;34m(self, batch)\u001b[0m\n\u001b[0;32m    569\u001b[0m         \u001b[0mdispatch_timestamp\u001b[0m \u001b[1;33m=\u001b[0m \u001b[0mtime\u001b[0m\u001b[1;33m.\u001b[0m\u001b[0mtime\u001b[0m\u001b[1;33m(\u001b[0m\u001b[1;33m)\u001b[0m\u001b[1;33m\u001b[0m\u001b[0m\n\u001b[0;32m    570\u001b[0m         \u001b[0mcb\u001b[0m \u001b[1;33m=\u001b[0m \u001b[0mBatchCompletionCallBack\u001b[0m\u001b[1;33m(\u001b[0m\u001b[0mdispatch_timestamp\u001b[0m\u001b[1;33m,\u001b[0m \u001b[0mlen\u001b[0m\u001b[1;33m(\u001b[0m\u001b[0mbatch\u001b[0m\u001b[1;33m)\u001b[0m\u001b[1;33m,\u001b[0m \u001b[0mself\u001b[0m\u001b[1;33m)\u001b[0m\u001b[1;33m\u001b[0m\u001b[0m\n\u001b[1;32m--> 571\u001b[1;33m         \u001b[0mjob\u001b[0m \u001b[1;33m=\u001b[0m \u001b[0mself\u001b[0m\u001b[1;33m.\u001b[0m\u001b[0m_backend\u001b[0m\u001b[1;33m.\u001b[0m\u001b[0mapply_async\u001b[0m\u001b[1;33m(\u001b[0m\u001b[0mbatch\u001b[0m\u001b[1;33m,\u001b[0m \u001b[0mcallback\u001b[0m\u001b[1;33m=\u001b[0m\u001b[0mcb\u001b[0m\u001b[1;33m)\u001b[0m\u001b[1;33m\u001b[0m\u001b[0m\n\u001b[0m\u001b[0;32m    572\u001b[0m         \u001b[0mself\u001b[0m\u001b[1;33m.\u001b[0m\u001b[0m_jobs\u001b[0m\u001b[1;33m.\u001b[0m\u001b[0mappend\u001b[0m\u001b[1;33m(\u001b[0m\u001b[0mjob\u001b[0m\u001b[1;33m)\u001b[0m\u001b[1;33m\u001b[0m\u001b[0m\n\u001b[0;32m    573\u001b[0m \u001b[1;33m\u001b[0m\u001b[0m\n",
      "\u001b[1;32m~\\Anaconda3\\lib\\site-packages\\sklearn\\externals\\joblib\\_parallel_backends.py\u001b[0m in \u001b[0;36mapply_async\u001b[1;34m(self, func, callback)\u001b[0m\n\u001b[0;32m    107\u001b[0m     \u001b[1;32mdef\u001b[0m \u001b[0mapply_async\u001b[0m\u001b[1;33m(\u001b[0m\u001b[0mself\u001b[0m\u001b[1;33m,\u001b[0m \u001b[0mfunc\u001b[0m\u001b[1;33m,\u001b[0m \u001b[0mcallback\u001b[0m\u001b[1;33m=\u001b[0m\u001b[1;32mNone\u001b[0m\u001b[1;33m)\u001b[0m\u001b[1;33m:\u001b[0m\u001b[1;33m\u001b[0m\u001b[0m\n\u001b[0;32m    108\u001b[0m         \u001b[1;34m\"\"\"Schedule a func to be run\"\"\"\u001b[0m\u001b[1;33m\u001b[0m\u001b[0m\n\u001b[1;32m--> 109\u001b[1;33m         \u001b[0mresult\u001b[0m \u001b[1;33m=\u001b[0m \u001b[0mImmediateResult\u001b[0m\u001b[1;33m(\u001b[0m\u001b[0mfunc\u001b[0m\u001b[1;33m)\u001b[0m\u001b[1;33m\u001b[0m\u001b[0m\n\u001b[0m\u001b[0;32m    110\u001b[0m         \u001b[1;32mif\u001b[0m \u001b[0mcallback\u001b[0m\u001b[1;33m:\u001b[0m\u001b[1;33m\u001b[0m\u001b[0m\n\u001b[0;32m    111\u001b[0m             \u001b[0mcallback\u001b[0m\u001b[1;33m(\u001b[0m\u001b[0mresult\u001b[0m\u001b[1;33m)\u001b[0m\u001b[1;33m\u001b[0m\u001b[0m\n",
      "\u001b[1;32m~\\Anaconda3\\lib\\site-packages\\sklearn\\externals\\joblib\\_parallel_backends.py\u001b[0m in \u001b[0;36m__init__\u001b[1;34m(self, batch)\u001b[0m\n\u001b[0;32m    324\u001b[0m         \u001b[1;31m# Don't delay the application, to avoid keeping the input\u001b[0m\u001b[1;33m\u001b[0m\u001b[1;33m\u001b[0m\u001b[0m\n\u001b[0;32m    325\u001b[0m         \u001b[1;31m# arguments in memory\u001b[0m\u001b[1;33m\u001b[0m\u001b[1;33m\u001b[0m\u001b[0m\n\u001b[1;32m--> 326\u001b[1;33m         \u001b[0mself\u001b[0m\u001b[1;33m.\u001b[0m\u001b[0mresults\u001b[0m \u001b[1;33m=\u001b[0m \u001b[0mbatch\u001b[0m\u001b[1;33m(\u001b[0m\u001b[1;33m)\u001b[0m\u001b[1;33m\u001b[0m\u001b[0m\n\u001b[0m\u001b[0;32m    327\u001b[0m \u001b[1;33m\u001b[0m\u001b[0m\n\u001b[0;32m    328\u001b[0m     \u001b[1;32mdef\u001b[0m \u001b[0mget\u001b[0m\u001b[1;33m(\u001b[0m\u001b[0mself\u001b[0m\u001b[1;33m)\u001b[0m\u001b[1;33m:\u001b[0m\u001b[1;33m\u001b[0m\u001b[0m\n",
      "\u001b[1;32m~\\Anaconda3\\lib\\site-packages\\sklearn\\externals\\joblib\\parallel.py\u001b[0m in \u001b[0;36m__call__\u001b[1;34m(self)\u001b[0m\n\u001b[0;32m    129\u001b[0m \u001b[1;33m\u001b[0m\u001b[0m\n\u001b[0;32m    130\u001b[0m     \u001b[1;32mdef\u001b[0m \u001b[0m__call__\u001b[0m\u001b[1;33m(\u001b[0m\u001b[0mself\u001b[0m\u001b[1;33m)\u001b[0m\u001b[1;33m:\u001b[0m\u001b[1;33m\u001b[0m\u001b[0m\n\u001b[1;32m--> 131\u001b[1;33m         \u001b[1;32mreturn\u001b[0m \u001b[1;33m[\u001b[0m\u001b[0mfunc\u001b[0m\u001b[1;33m(\u001b[0m\u001b[1;33m*\u001b[0m\u001b[0margs\u001b[0m\u001b[1;33m,\u001b[0m \u001b[1;33m**\u001b[0m\u001b[0mkwargs\u001b[0m\u001b[1;33m)\u001b[0m \u001b[1;32mfor\u001b[0m \u001b[0mfunc\u001b[0m\u001b[1;33m,\u001b[0m \u001b[0margs\u001b[0m\u001b[1;33m,\u001b[0m \u001b[0mkwargs\u001b[0m \u001b[1;32min\u001b[0m \u001b[0mself\u001b[0m\u001b[1;33m.\u001b[0m\u001b[0mitems\u001b[0m\u001b[1;33m]\u001b[0m\u001b[1;33m\u001b[0m\u001b[0m\n\u001b[0m\u001b[0;32m    132\u001b[0m \u001b[1;33m\u001b[0m\u001b[0m\n\u001b[0;32m    133\u001b[0m     \u001b[1;32mdef\u001b[0m \u001b[0m__len__\u001b[0m\u001b[1;33m(\u001b[0m\u001b[0mself\u001b[0m\u001b[1;33m)\u001b[0m\u001b[1;33m:\u001b[0m\u001b[1;33m\u001b[0m\u001b[0m\n",
      "\u001b[1;32m~\\Anaconda3\\lib\\site-packages\\sklearn\\externals\\joblib\\parallel.py\u001b[0m in \u001b[0;36m<listcomp>\u001b[1;34m(.0)\u001b[0m\n\u001b[0;32m    129\u001b[0m \u001b[1;33m\u001b[0m\u001b[0m\n\u001b[0;32m    130\u001b[0m     \u001b[1;32mdef\u001b[0m \u001b[0m__call__\u001b[0m\u001b[1;33m(\u001b[0m\u001b[0mself\u001b[0m\u001b[1;33m)\u001b[0m\u001b[1;33m:\u001b[0m\u001b[1;33m\u001b[0m\u001b[0m\n\u001b[1;32m--> 131\u001b[1;33m         \u001b[1;32mreturn\u001b[0m \u001b[1;33m[\u001b[0m\u001b[0mfunc\u001b[0m\u001b[1;33m(\u001b[0m\u001b[1;33m*\u001b[0m\u001b[0margs\u001b[0m\u001b[1;33m,\u001b[0m \u001b[1;33m**\u001b[0m\u001b[0mkwargs\u001b[0m\u001b[1;33m)\u001b[0m \u001b[1;32mfor\u001b[0m \u001b[0mfunc\u001b[0m\u001b[1;33m,\u001b[0m \u001b[0margs\u001b[0m\u001b[1;33m,\u001b[0m \u001b[0mkwargs\u001b[0m \u001b[1;32min\u001b[0m \u001b[0mself\u001b[0m\u001b[1;33m.\u001b[0m\u001b[0mitems\u001b[0m\u001b[1;33m]\u001b[0m\u001b[1;33m\u001b[0m\u001b[0m\n\u001b[0m\u001b[0;32m    132\u001b[0m \u001b[1;33m\u001b[0m\u001b[0m\n\u001b[0;32m    133\u001b[0m     \u001b[1;32mdef\u001b[0m \u001b[0m__len__\u001b[0m\u001b[1;33m(\u001b[0m\u001b[0mself\u001b[0m\u001b[1;33m)\u001b[0m\u001b[1;33m:\u001b[0m\u001b[1;33m\u001b[0m\u001b[0m\n",
      "\u001b[1;32m~\\Anaconda3\\lib\\site-packages\\sklearn\\model_selection\\_validation.py\u001b[0m in \u001b[0;36m_fit_and_score\u001b[1;34m(estimator, X, y, scorer, train, test, verbose, parameters, fit_params, return_train_score, return_parameters, return_n_test_samples, return_times, error_score)\u001b[0m\n\u001b[0;32m    258\u001b[0m     \u001b[1;32melse\u001b[0m\u001b[1;33m:\u001b[0m\u001b[1;33m\u001b[0m\u001b[0m\n\u001b[0;32m    259\u001b[0m         \u001b[0mfit_time\u001b[0m \u001b[1;33m=\u001b[0m \u001b[0mtime\u001b[0m\u001b[1;33m.\u001b[0m\u001b[0mtime\u001b[0m\u001b[1;33m(\u001b[0m\u001b[1;33m)\u001b[0m \u001b[1;33m-\u001b[0m \u001b[0mstart_time\u001b[0m\u001b[1;33m\u001b[0m\u001b[0m\n\u001b[1;32m--> 260\u001b[1;33m         \u001b[0mtest_score\u001b[0m \u001b[1;33m=\u001b[0m \u001b[0m_score\u001b[0m\u001b[1;33m(\u001b[0m\u001b[0mestimator\u001b[0m\u001b[1;33m,\u001b[0m \u001b[0mX_test\u001b[0m\u001b[1;33m,\u001b[0m \u001b[0my_test\u001b[0m\u001b[1;33m,\u001b[0m \u001b[0mscorer\u001b[0m\u001b[1;33m)\u001b[0m\u001b[1;33m\u001b[0m\u001b[0m\n\u001b[0m\u001b[0;32m    261\u001b[0m         \u001b[0mscore_time\u001b[0m \u001b[1;33m=\u001b[0m \u001b[0mtime\u001b[0m\u001b[1;33m.\u001b[0m\u001b[0mtime\u001b[0m\u001b[1;33m(\u001b[0m\u001b[1;33m)\u001b[0m \u001b[1;33m-\u001b[0m \u001b[0mstart_time\u001b[0m \u001b[1;33m-\u001b[0m \u001b[0mfit_time\u001b[0m\u001b[1;33m\u001b[0m\u001b[0m\n\u001b[0;32m    262\u001b[0m         \u001b[1;32mif\u001b[0m \u001b[0mreturn_train_score\u001b[0m\u001b[1;33m:\u001b[0m\u001b[1;33m\u001b[0m\u001b[0m\n",
      "\u001b[1;32m~\\Anaconda3\\lib\\site-packages\\sklearn\\model_selection\\_validation.py\u001b[0m in \u001b[0;36m_score\u001b[1;34m(estimator, X_test, y_test, scorer)\u001b[0m\n\u001b[0;32m    286\u001b[0m         \u001b[0mscore\u001b[0m \u001b[1;33m=\u001b[0m \u001b[0mscorer\u001b[0m\u001b[1;33m(\u001b[0m\u001b[0mestimator\u001b[0m\u001b[1;33m,\u001b[0m \u001b[0mX_test\u001b[0m\u001b[1;33m)\u001b[0m\u001b[1;33m\u001b[0m\u001b[0m\n\u001b[0;32m    287\u001b[0m     \u001b[1;32melse\u001b[0m\u001b[1;33m:\u001b[0m\u001b[1;33m\u001b[0m\u001b[0m\n\u001b[1;32m--> 288\u001b[1;33m         \u001b[0mscore\u001b[0m \u001b[1;33m=\u001b[0m \u001b[0mscorer\u001b[0m\u001b[1;33m(\u001b[0m\u001b[0mestimator\u001b[0m\u001b[1;33m,\u001b[0m \u001b[0mX_test\u001b[0m\u001b[1;33m,\u001b[0m \u001b[0my_test\u001b[0m\u001b[1;33m)\u001b[0m\u001b[1;33m\u001b[0m\u001b[0m\n\u001b[0m\u001b[0;32m    289\u001b[0m     \u001b[1;32mif\u001b[0m \u001b[0mhasattr\u001b[0m\u001b[1;33m(\u001b[0m\u001b[0mscore\u001b[0m\u001b[1;33m,\u001b[0m \u001b[1;34m'item'\u001b[0m\u001b[1;33m)\u001b[0m\u001b[1;33m:\u001b[0m\u001b[1;33m\u001b[0m\u001b[0m\n\u001b[0;32m    290\u001b[0m         \u001b[1;32mtry\u001b[0m\u001b[1;33m:\u001b[0m\u001b[1;33m\u001b[0m\u001b[0m\n",
      "\u001b[1;32m~\\Anaconda3\\lib\\site-packages\\sklearn\\metrics\\scorer.py\u001b[0m in \u001b[0;36m_passthrough_scorer\u001b[1;34m(estimator, *args, **kwargs)\u001b[0m\n\u001b[0;32m    217\u001b[0m \u001b[1;32mdef\u001b[0m \u001b[0m_passthrough_scorer\u001b[0m\u001b[1;33m(\u001b[0m\u001b[0mestimator\u001b[0m\u001b[1;33m,\u001b[0m \u001b[1;33m*\u001b[0m\u001b[0margs\u001b[0m\u001b[1;33m,\u001b[0m \u001b[1;33m**\u001b[0m\u001b[0mkwargs\u001b[0m\u001b[1;33m)\u001b[0m\u001b[1;33m:\u001b[0m\u001b[1;33m\u001b[0m\u001b[0m\n\u001b[0;32m    218\u001b[0m     \u001b[1;34m\"\"\"Function that wraps estimator.score\"\"\"\u001b[0m\u001b[1;33m\u001b[0m\u001b[0m\n\u001b[1;32m--> 219\u001b[1;33m     \u001b[1;32mreturn\u001b[0m \u001b[0mestimator\u001b[0m\u001b[1;33m.\u001b[0m\u001b[0mscore\u001b[0m\u001b[1;33m(\u001b[0m\u001b[1;33m*\u001b[0m\u001b[0margs\u001b[0m\u001b[1;33m,\u001b[0m \u001b[1;33m**\u001b[0m\u001b[0mkwargs\u001b[0m\u001b[1;33m)\u001b[0m\u001b[1;33m\u001b[0m\u001b[0m\n\u001b[0m\u001b[0;32m    220\u001b[0m \u001b[1;33m\u001b[0m\u001b[0m\n\u001b[0;32m    221\u001b[0m \u001b[1;33m\u001b[0m\u001b[0m\n",
      "\u001b[1;32m~\\Anaconda3\\lib\\site-packages\\sklearn\\base.py\u001b[0m in \u001b[0;36mscore\u001b[1;34m(self, X, y, sample_weight)\u001b[0m\n\u001b[0;32m    385\u001b[0m         \u001b[1;32mfrom\u001b[0m \u001b[1;33m.\u001b[0m\u001b[0mmetrics\u001b[0m \u001b[1;32mimport\u001b[0m \u001b[0mr2_score\u001b[0m\u001b[1;33m\u001b[0m\u001b[0m\n\u001b[0;32m    386\u001b[0m         return r2_score(y, self.predict(X), sample_weight=sample_weight,\n\u001b[1;32m--> 387\u001b[1;33m                         multioutput='variance_weighted')\n\u001b[0m\u001b[0;32m    388\u001b[0m \u001b[1;33m\u001b[0m\u001b[0m\n\u001b[0;32m    389\u001b[0m \u001b[1;33m\u001b[0m\u001b[0m\n",
      "\u001b[1;32m~\\Anaconda3\\lib\\site-packages\\sklearn\\metrics\\regression.py\u001b[0m in \u001b[0;36mr2_score\u001b[1;34m(y_true, y_pred, sample_weight, multioutput)\u001b[0m\n\u001b[0;32m    453\u001b[0m     \"\"\"\n\u001b[0;32m    454\u001b[0m     y_type, y_true, y_pred, multioutput = _check_reg_targets(\n\u001b[1;32m--> 455\u001b[1;33m         y_true, y_pred, multioutput)\n\u001b[0m\u001b[0;32m    456\u001b[0m \u001b[1;33m\u001b[0m\u001b[0m\n\u001b[0;32m    457\u001b[0m     \u001b[1;32mif\u001b[0m \u001b[0msample_weight\u001b[0m \u001b[1;32mis\u001b[0m \u001b[1;32mnot\u001b[0m \u001b[1;32mNone\u001b[0m\u001b[1;33m:\u001b[0m\u001b[1;33m\u001b[0m\u001b[0m\n",
      "\u001b[1;32m~\\Anaconda3\\lib\\site-packages\\sklearn\\metrics\\regression.py\u001b[0m in \u001b[0;36m_check_reg_targets\u001b[1;34m(y_true, y_pred, multioutput)\u001b[0m\n\u001b[0;32m     73\u001b[0m     \"\"\"\n\u001b[0;32m     74\u001b[0m     \u001b[0mcheck_consistent_length\u001b[0m\u001b[1;33m(\u001b[0m\u001b[0my_true\u001b[0m\u001b[1;33m,\u001b[0m \u001b[0my_pred\u001b[0m\u001b[1;33m)\u001b[0m\u001b[1;33m\u001b[0m\u001b[0m\n\u001b[1;32m---> 75\u001b[1;33m     \u001b[0my_true\u001b[0m \u001b[1;33m=\u001b[0m \u001b[0mcheck_array\u001b[0m\u001b[1;33m(\u001b[0m\u001b[0my_true\u001b[0m\u001b[1;33m,\u001b[0m \u001b[0mensure_2d\u001b[0m\u001b[1;33m=\u001b[0m\u001b[1;32mFalse\u001b[0m\u001b[1;33m)\u001b[0m\u001b[1;33m\u001b[0m\u001b[0m\n\u001b[0m\u001b[0;32m     76\u001b[0m     \u001b[0my_pred\u001b[0m \u001b[1;33m=\u001b[0m \u001b[0mcheck_array\u001b[0m\u001b[1;33m(\u001b[0m\u001b[0my_pred\u001b[0m\u001b[1;33m,\u001b[0m \u001b[0mensure_2d\u001b[0m\u001b[1;33m=\u001b[0m\u001b[1;32mFalse\u001b[0m\u001b[1;33m)\u001b[0m\u001b[1;33m\u001b[0m\u001b[0m\n\u001b[0;32m     77\u001b[0m \u001b[1;33m\u001b[0m\u001b[0m\n",
      "\u001b[1;32m~\\Anaconda3\\lib\\site-packages\\sklearn\\utils\\validation.py\u001b[0m in \u001b[0;36mcheck_array\u001b[1;34m(array, accept_sparse, dtype, order, copy, force_all_finite, ensure_2d, allow_nd, ensure_min_samples, ensure_min_features, warn_on_dtype, estimator)\u001b[0m\n\u001b[0;32m    405\u001b[0m                              % (array.ndim, estimator_name))\n\u001b[0;32m    406\u001b[0m         \u001b[1;32mif\u001b[0m \u001b[0mforce_all_finite\u001b[0m\u001b[1;33m:\u001b[0m\u001b[1;33m\u001b[0m\u001b[0m\n\u001b[1;32m--> 407\u001b[1;33m             \u001b[0m_assert_all_finite\u001b[0m\u001b[1;33m(\u001b[0m\u001b[0marray\u001b[0m\u001b[1;33m)\u001b[0m\u001b[1;33m\u001b[0m\u001b[0m\n\u001b[0m\u001b[0;32m    408\u001b[0m \u001b[1;33m\u001b[0m\u001b[0m\n\u001b[0;32m    409\u001b[0m     \u001b[0mshape_repr\u001b[0m \u001b[1;33m=\u001b[0m \u001b[0m_shape_repr\u001b[0m\u001b[1;33m(\u001b[0m\u001b[0marray\u001b[0m\u001b[1;33m.\u001b[0m\u001b[0mshape\u001b[0m\u001b[1;33m)\u001b[0m\u001b[1;33m\u001b[0m\u001b[0m\n",
      "\u001b[1;32m~\\Anaconda3\\lib\\site-packages\\sklearn\\utils\\validation.py\u001b[0m in \u001b[0;36m_assert_all_finite\u001b[1;34m(X)\u001b[0m\n\u001b[0;32m     56\u001b[0m             and not np.isfinite(X).all()):\n\u001b[0;32m     57\u001b[0m         raise ValueError(\"Input contains NaN, infinity\"\n\u001b[1;32m---> 58\u001b[1;33m                          \" or a value too large for %r.\" % X.dtype)\n\u001b[0m\u001b[0;32m     59\u001b[0m \u001b[1;33m\u001b[0m\u001b[0m\n\u001b[0;32m     60\u001b[0m \u001b[1;33m\u001b[0m\u001b[0m\n",
      "\u001b[1;31mValueError\u001b[0m: Input contains NaN, infinity or a value too large for dtype('float64')."
     ]
    }
   ],
   "source": [
    "import scipy.stats as st\n",
    "\n",
    "params_grid = {  \n",
    "    'learning_rate': st.uniform(0.01, 0.3),\n",
    "    'max_depth': list(range(10, 20, 2)),\n",
    "    'gamma': st.uniform(0, 10),\n",
    "    'reg_alpha': st.expon(0, 50)}\n",
    "\n",
    "search_sk = RandomizedSearchCV(skrg, params_grid, cv = 5) # 5 fold cross validation\n",
    "search_sk.fit(X_train, y_train)\n",
    "\n",
    "# best parameters\n",
    "print(search_sk.best_params_); print(search_sk.best_score_)"
   ]
  },
  {
   "cell_type": "code",
   "execution_count": null,
   "metadata": {},
   "outputs": [],
   "source": []
  }
 ],
 "metadata": {
  "kernelspec": {
   "display_name": "Python 3",
   "language": "python",
   "name": "python3"
  },
  "language_info": {
   "codemirror_mode": {
    "name": "ipython",
    "version": 3
   },
   "file_extension": ".py",
   "mimetype": "text/x-python",
   "name": "python",
   "nbconvert_exporter": "python",
   "pygments_lexer": "ipython3",
   "version": "3.6.0"
  }
 },
 "nbformat": 4,
 "nbformat_minor": 2
}
